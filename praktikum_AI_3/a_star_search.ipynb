{
  "nbformat": 4,
  "nbformat_minor": 0,
  "metadata": {
    "colab": {
      "provenance": [],
      "authorship_tag": "ABX9TyM81sglBEi571vo67XMu9mr",
      "include_colab_link": true
    },
    "kernelspec": {
      "name": "python3",
      "display_name": "Python 3"
    },
    "language_info": {
      "name": "python"
    }
  },
  "cells": [
    {
      "cell_type": "markdown",
      "metadata": {
        "id": "view-in-github",
        "colab_type": "text"
      },
      "source": [
        "<a href=\"https://colab.research.google.com/github/adamfadly2005/adam-fadly_2306031_praktikum_AI_3/blob/main/praktikum_AI_3/a_star_search.ipynb\" target=\"_parent\"><img src=\"https://colab.research.google.com/assets/colab-badge.svg\" alt=\"Open In Colab\"/></a>"
      ]
    },
    {
      "cell_type": "code",
      "execution_count": null,
      "metadata": {
        "colab": {
          "base_uri": "https://localhost:8080/"
        },
        "id": "tkZZv7_hOxqI",
        "outputId": "31958c5c-1cc4-4d31-fe7d-299ee5d3127d"
      },
      "outputs": [
        {
          "output_type": "stream",
          "name": "stdout",
          "text": [
            "Goal node found!\n",
            "Route: ['S', 'B', 'D', 'G']\n",
            "Route optimal? True\n",
            "Goal node found!\n",
            "Route: ['S', 'B', 'D', 'G']\n",
            "Route optimal!\n"
          ]
        },
        {
          "output_type": "execute_result",
          "data": {
            "text/plain": [
              "['S', 'B', 'D', 'G']"
            ]
          },
          "metadata": {},
          "execution_count": 1
        }
      ],
      "source": [
        "from queue import PriorityQueue\n",
        "\n",
        "# Fungsi untuk merekonstruksi jalur\n",
        "def reconstruct_path(path, start, goal):\n",
        "    current = goal\n",
        "    route = [current]\n",
        "\n",
        "    while current != start:\n",
        "        current = path[current]\n",
        "        route.append(current)\n",
        "\n",
        "    route.reverse()\n",
        "    return route\n",
        "\n",
        "# Algoritma A* Tree Search\n",
        "def a_star_tree_search(graph, start, goal, heuristic):\n",
        "    frontier = PriorityQueue()\n",
        "    frontier.put((0, start))  # (Priority, Node)\n",
        "    path = {}\n",
        "\n",
        "    while not frontier.empty():\n",
        "        _, current_node = frontier.get()\n",
        "\n",
        "        if current_node == goal:\n",
        "            print(\"Goal node found!\")\n",
        "            print(\"Route:\", reconstruct_path(path, start, goal))\n",
        "            print(\"Route optimal? True\")\n",
        "            return reconstruct_path(path, start, goal)\n",
        "\n",
        "        for neighbor, cost in graph.get(current_node, {}).items():\n",
        "            priority = heuristic[neighbor] + cost\n",
        "            frontier.put((priority, neighbor))\n",
        "            path[neighbor] = current_node  # Store parent node\n",
        "\n",
        "    print(\"Goal node not found!\")\n",
        "    return None\n",
        "\n",
        "# Algoritma A* Graph Search\n",
        "def a_star_graph_search(graph, start, goal, heuristic):\n",
        "    frontier = PriorityQueue()\n",
        "    frontier.put((heuristic[start], start))  # (Priority, Node)\n",
        "    explored = set()\n",
        "    path = {}\n",
        "\n",
        "    while not frontier.empty():\n",
        "        _, current_node = frontier.get()\n",
        "\n",
        "        if current_node == goal:\n",
        "            print(\"Goal node found!\")\n",
        "            print(\"Route:\", reconstruct_path(path, start, goal))\n",
        "            print(\"Route optimal!\")\n",
        "            return reconstruct_path(path, start, goal)\n",
        "\n",
        "        explored.add(current_node)\n",
        "\n",
        "        for neighbor, cost in graph[current_node].items():\n",
        "            if neighbor not in explored:\n",
        "                priority = cost + heuristic[neighbor]\n",
        "                frontier.put((priority, neighbor))\n",
        "                path[neighbor] = current_node  # Store parent node\n",
        "\n",
        "    print(\"Goal node not found!\")\n",
        "    return None\n",
        "\n",
        "# Nilai heuristik untuk masing-masing node\n",
        "heuristic = {\n",
        "    'A': 4, 'B': 3, 'C': 3, 'D': 1,  'S': 6, 'G': 0\n",
        "}\n",
        "\n",
        "# Graph adjacency list with costs\n",
        "graph = {\n",
        "    'S': {'A': 3, 'B': 2},\n",
        "    'A': {'B': 1, 'C': 2},\n",
        "    'B': {'D': 3,'C': 2},\n",
        "    'C': {'G': 4},\n",
        "    'D': {'G': 1},\n",
        "\n",
        "}\n",
        "\n",
        "# Alternative graph definition (if needed)\n",
        "graph_alt = {\n",
        "    'S': {'A': 3, 'B': 2},\n",
        "    'A': {'D': 1, 'B': 5},\n",
        "}\n",
        "\n",
        "# Tentukan simpul awal dan tujuan\n",
        "start_node = 'S'\n",
        "goal_node = 'G'\n",
        "\n",
        "# Menjalankan A* Tree Search\n",
        "a_star_tree_search(graph, start_node, goal_node, heuristic)\n",
        "\n",
        "# Jalankan A* Graph Search\n",
        "a_star_graph_search(graph, start_node, goal_node, heuristic)"
      ]
    }
  ]
}